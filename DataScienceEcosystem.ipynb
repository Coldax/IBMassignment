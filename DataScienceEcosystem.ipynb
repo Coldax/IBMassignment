{
 "cells": [
  {
   "cell_type": "markdown",
   "id": "c9b688d6-8fda-4b7c-954b-7c0092299acf",
   "metadata": {},
   "source": [
    "# Data Science Tools and Ecosystem\n"
   ]
  },
  {
   "cell_type": "markdown",
   "id": "8a67ccf3-a146-4a4c-ad58-8232c61dd041",
   "metadata": {},
   "source": [
    "In this notebook, Data Science Tools and Ecosystem are summarized."
   ]
  },
  {
   "cell_type": "markdown",
   "id": "7df41a9f-e20c-41b9-9379-d8a46e4de86e",
   "metadata": {},
   "source": [
    "**Objectives:**\n",
    "- Identify popular programming languages used in Data Science\n",
    "- Understand common libraries and frameworks (e.g., NumPy, Pandas)\n",
    "- Explore open-source development environments (e.g., Jupyter Notebook, RStudio)\n",
    "- Practice arithmetic expressions and basic Python operations\n",
    "- Summarize key takeaways and document findings in Markdown"
   ]
  },
  {
   "cell_type": "markdown",
   "id": "be9cd5ec-15ac-4512-9094-d07622a44adc",
   "metadata": {},
   "source": [
    "Some of the popular languages that Data Scientists use are:\n",
    "1. Python\n",
    "2. R\n",
    "3. SQL"
   ]
  },
  {
   "cell_type": "markdown",
   "id": "cb65d8a4-8624-471a-be47-1018211fdbf0",
   "metadata": {},
   "source": [
    "Some of the commonly used libraries used by Data Scientists include:\n",
    "1. NumPy\n",
    "2. Pandas\n",
    "3. Matplotlib\n",
    "4. Seaborn\n",
    "5. Scikit-learn"
   ]
  },
  {
   "cell_type": "markdown",
   "id": "2be0b216-66ad-4088-a5d7-fa74b8978189",
   "metadata": {},
   "source": [
    "|Data Science Tools|\n",
    "|------------------|\n",
    "|Jupyter Notebook|\n",
    "|RStudio|\n",
    "|Spyder|"
   ]
  },
  {
   "cell_type": "markdown",
   "id": "fef74ab9-dc29-43eb-b02f-2c4242e0e450",
   "metadata": {},
   "source": [
    "### Below are a few examples of evaluating arithmetic expressions in Python"
   ]
  },
  {
   "cell_type": "code",
   "execution_count": 27,
   "id": "e544daea-273d-4397-b47d-b7b555ee33e3",
   "metadata": {},
   "outputs": [
    {
     "data": {
      "text/plain": [
       "17"
      ]
     },
     "execution_count": 27,
     "metadata": {},
     "output_type": "execute_result"
    }
   ],
   "source": [
    "#This a simple arithmetic expression to mutiply then add integers\n",
    "(3*4)+5"
   ]
  },
  {
   "cell_type": "code",
   "execution_count": 35,
   "id": "9b73259b-3a93-4d3b-bba2-e749cd7bc8c4",
   "metadata": {},
   "outputs": [
    {
     "name": "stdout",
     "output_type": "stream",
     "text": [
      "3.3333333333333335\n"
     ]
    }
   ],
   "source": [
    "#This will convert 200 minutes to hours by diving by 60\n",
    "m = 200\n",
    "h = m/60\n",
    "print(h)"
   ]
  },
  {
   "cell_type": "markdown",
   "id": "4cea0b32-f5d4-4071-ab3f-d09649fe0f67",
   "metadata": {},
   "source": [
    "## Ahmet Sıtkı Daloğlu "
   ]
  }
 ],
 "metadata": {
  "kernelspec": {
   "display_name": "Python [conda env:base] *",
   "language": "python",
   "name": "conda-base-py"
  },
  "language_info": {
   "codemirror_mode": {
    "name": "ipython",
    "version": 3
   },
   "file_extension": ".py",
   "mimetype": "text/x-python",
   "name": "python",
   "nbconvert_exporter": "python",
   "pygments_lexer": "ipython3",
   "version": "3.12.7"
  }
 },
 "nbformat": 4,
 "nbformat_minor": 5
}
